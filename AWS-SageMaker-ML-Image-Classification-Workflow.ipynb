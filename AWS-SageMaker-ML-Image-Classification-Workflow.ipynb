{
 "cells": [
  {
   "cell_type": "markdown",
   "metadata": {},
   "source": [
    "# Deploy and monitor a machine learning workflow for Image Classification"
   ]
  },
  {
   "cell_type": "markdown",
   "metadata": {},
   "source": [
    "## Setting up this notebook\n",
    "\n",
    "This notebook has been tested on\n",
    "\n",
    "1. The `Python 3 (Data Science)` kernel\n",
    "2. The `ml.t3.medium` Sagemaker notebook instance\n",
    "\n",
    "## Data Staging\n",
    "\n",
    "We'll use a sample dataset called CIFAR to simulate the challenges a fictional company is facing in Image Classification. In order to start working with CIFAR we'll need to:\n",
    "\n",
    "1. Extract the data from a hosting service\n",
    "2. Transform it into a usable shape and format\n",
    "3. Load it into a production system\n",
    "\n",
    "In other words, we're going to do some simple ETL!"
   ]
  },
  {
   "cell_type": "code",
   "execution_count": 140,
   "metadata": {
    "editable": true,
    "slideshow": {
     "slide_type": ""
    },
    "tags": []
   },
   "outputs": [],
   "source": [
    "import requests\n",
    "\n",
    "def extract_cifar_data(url, filename=\"cifar.tar.gz\"):\n",
    "    \"\"\"A function for extracting the CIFAR-100 dataset and storing it as a gzipped file\n",
    "    \n",
    "    Arguments:\n",
    "    url      -- the URL where the dataset is hosted\n",
    "    filename -- the full path where the dataset will be written\n",
    "    \n",
    "    \"\"\"\n",
    "    \n",
    "    r = requests.get(url)\n",
    "    with open(filename, \"wb\") as file_context:\n",
    "        file_context.write(r.content)\n",
    "    return"
   ]
  },
  {
   "cell_type": "markdown",
   "metadata": {
    "editable": true,
    "slideshow": {
     "slide_type": ""
    },
    "tags": []
   },
   "source": [
    "Let's test it out! After running the following cell a new file `cifar.tar.gz` should be created in the file explorer."
   ]
  },
  {
   "cell_type": "code",
   "execution_count": 141,
   "metadata": {},
   "outputs": [],
   "source": [
    "extract_cifar_data(\"https://www.cs.toronto.edu/~kriz/cifar-100-python.tar.gz\")"
   ]
  },
  {
   "cell_type": "markdown",
   "metadata": {
    "editable": true,
    "slideshow": {
     "slide_type": ""
    },
    "tags": []
   },
   "source": [
    "### 2. Transform the data into a usable shape and format\n",
    "\n",
    "Clearly, distributing the data as a gzipped archive makes sense for the hosting service! It saves on bandwidth, storage, and it's a widely-used archive format. In fact, it's so widely used that the Python community ships a utility for working with them, `tarfile`, as part of its Standard Library. Execute the following cell to decompress the extracted dataset:"
   ]
  },
  {
   "cell_type": "code",
   "execution_count": 142,
   "metadata": {},
   "outputs": [],
   "source": [
    "import tarfile\n",
    "\n",
    "with tarfile.open(\"cifar.tar.gz\", \"r:gz\") as tar:\n",
    "    tar.extractall()"
   ]
  },
  {
   "cell_type": "markdown",
   "metadata": {},
   "source": [
    "A new folder `cifar-100-python` should be created, containing `meta`, `test`, and `train` files. These files are `pickles` and the [CIFAR homepage](https://www.cs.toronto.edu/~kriz/cifar.html) provides a simple script that can be used to load them."
   ]
  },
  {
   "cell_type": "code",
   "execution_count": 143,
   "metadata": {},
   "outputs": [],
   "source": [
    "import pickle\n",
    "\n",
    "with open(\"./cifar-100-python/meta\", \"rb\") as f:\n",
    "    dataset_meta = pickle.load(f, encoding='bytes')\n",
    "\n",
    "with open(\"./cifar-100-python/test\", \"rb\") as f:\n",
    "    dataset_test = pickle.load(f, encoding='bytes')\n",
    "\n",
    "with open(\"./cifar-100-python/train\", \"rb\") as f:\n",
    "    dataset_train = pickle.load(f, encoding='bytes')"
   ]
  },
  {
   "cell_type": "code",
   "execution_count": 145,
   "metadata": {},
   "outputs": [
    {
     "name": "stdout",
     "output_type": "stream",
     "text": [
      "b'filenames', Type:<class 'list'>, Elements:[b'bos_taurus_s_000507.png', b'stegosaurus_s_000125.png', b'mcintosh_s_000643.png', b'altar_boy_s_001435.png', b'cichlid_s_000031.png']\n",
      "\n",
      "b'batch_label', Type:<class 'bytes'>, Elements:b'train'\n",
      "\n",
      "b'fine_labels', Type:<class 'list'>, Elements:[19, 29, 0, 11, 1]\n",
      "\n",
      "b'coarse_labels', Type:<class 'list'>, Elements:[11, 15, 4, 14, 1]\n",
      "\n",
      "b'data', Shape:(50000, 3072), Element:[[255 255 255 ...  10  59  79]\n",
      " [255 253 253 ... 253 253 255]\n",
      " [250 248 247 ... 194 207 228]\n",
      " [124 131 135 ... 232 236 231]\n",
      " [ 43  32  87 ...  60  29  37]]\n",
      "\n"
     ]
    }
   ],
   "source": [
    "# Feel free to explore the datasets\n",
    "for key in dataset_train.keys():\n",
    "    try:\n",
    "        print(f'{key}, Shape:{dataset_train[key].shape}, Element:{dataset_train[key][:5]}\\n')\n",
    "    except:\n",
    "        print(\n",
    "            f\"{key}, Type:{type(dataset_train[key])}, Elements:{dataset_train[key][:5]}\\n\"\n",
    "        )"
   ]
  },
  {
   "cell_type": "markdown",
   "metadata": {},
   "source": [
    "As documented on the homepage, `b'data'` contains rows of 3073 unsigned integers, representing three channels (red, green, and blue) for one 32x32 pixel image per row."
   ]
  },
  {
   "cell_type": "markdown",
   "metadata": {},
   "source": [
    "For a simple gut-check, let's transform one of our images. Each 1024 items in a row is a channel (red, green, then blue). Each 32 items in the channel are a row in the 32x32 image. Using python, we can stack these channels into a 32x32x3 array, and save it as a PNG file:"
   ]
  },
  {
   "cell_type": "code",
   "execution_count": 147,
   "metadata": {},
   "outputs": [],
   "source": [
    "import numpy as np\n",
    "\n",
    "# Each 1024 in a row is a channel (red, green, then blue)\n",
    "row = dataset_train[b'data'][0]\n",
    "red, green, blue = row[0:1024], row[1024:2048], row[2048:]\n",
    "\n",
    "# Each 32 items in the channel are a row in the 32x32 image\n",
    "red = red.reshape(32,32)\n",
    "green = green.reshape(32,32)\n",
    "blue = blue.reshape(32,32)\n",
    "\n",
    "# Combine the channels into a 32x32x3 image!\n",
    "combined = np.dstack((red,green,blue))"
   ]
  },
  {
   "cell_type": "markdown",
   "metadata": {},
   "source": [
    "For a more concise version, consider the following:"
   ]
  },
  {
   "cell_type": "code",
   "execution_count": 148,
   "metadata": {},
   "outputs": [],
   "source": [
    "# All in one:\n",
    "test_image = np.dstack((\n",
    "    row[0:1024].reshape(32,32),\n",
    "    row[1024:2048].reshape(32,32),\n",
    "    row[2048:].reshape(32,32)\n",
    "))"
   ]
  },
  {
   "cell_type": "code",
   "execution_count": 149,
   "metadata": {},
   "outputs": [
    {
     "data": {
      "image/png": "[encoded data removed]",
      "text/plain": [
       "<Figure size 640x480 with 1 Axes>"
      ]
     },
     "metadata": {},
     "output_type": "display_data"
    }
   ],
   "source": [
    "import matplotlib.pyplot as plt\n",
    "plt.imshow(test_image);"
   ]
  },
  {
   "cell_type": "markdown",
   "metadata": {},
   "source": [
    "Looks like a cow! Let's check the label. `dataset_meta` contains label names in order, and `dataset_train` has a list of labels for each row."
   ]
  },
  {
   "cell_type": "code",
   "execution_count": 150,
   "metadata": {},
   "outputs": [
    {
     "data": {
      "text/plain": [
       "19"
      ]
     },
     "execution_count": 150,
     "metadata": {},
     "output_type": "execute_result"
    }
   ],
   "source": [
    "dataset_train[b'fine_labels'][0]"
   ]
  },
  {
   "cell_type": "markdown",
   "metadata": {},
   "source": [
    "Our image has a label of `19`, so let's see what the 19th item is in the list of label names."
   ]
  },
  {
   "cell_type": "code",
   "execution_count": 151,
   "metadata": {},
   "outputs": [
    {
     "name": "stdout",
     "output_type": "stream",
     "text": [
      "b'cattle'\n"
     ]
    }
   ],
   "source": [
    "print(dataset_meta[b'fine_label_names'][19])"
   ]
  },
  {
   "cell_type": "markdown",
   "metadata": {},
   "source": [
    "'cattle' sounds about right. Using the previous two lines we can do:"
   ]
  },
  {
   "cell_type": "code",
   "execution_count": 152,
   "metadata": {},
   "outputs": [
    {
     "name": "stdout",
     "output_type": "stream",
     "text": [
      "b'cattle'\n"
     ]
    }
   ],
   "source": [
    "n = 0\n",
    "print(dataset_meta[b'fine_label_names'][dataset_train[b'fine_labels'][n]])"
   ]
  },
  {
   "cell_type": "markdown",
   "metadata": {},
   "source": [
    "Now that we know how to check the labels, is there a way that we can also check file names? `dataset_train` also contains a `b'filenames'` key. Let's see what we have here:"
   ]
  },
  {
   "cell_type": "code",
   "execution_count": 153,
   "metadata": {},
   "outputs": [
    {
     "name": "stdout",
     "output_type": "stream",
     "text": [
      "b'bos_taurus_s_000507.png'\n"
     ]
    }
   ],
   "source": [
    "print(dataset_train[b'filenames'][0])"
   ]
  },
  {
   "cell_type": "markdown",
   "metadata": {},
   "source": [
    "\"Taurus\" is the name of a subspecies of cattle, so this looks like a pretty reasonable filename. To save an image we can also do:"
   ]
  },
  {
   "cell_type": "code",
   "execution_count": 154,
   "metadata": {},
   "outputs": [],
   "source": [
    "plt.imsave(\"file.png\", test_image)"
   ]
  },
  {
   "cell_type": "markdown",
   "metadata": {},
   "source": [
    "The new PNG file should now appear in the file explorer -- go ahead and pop it open to see!\n",
    "\n",
    "Now that we know how to reshape the images, save them as files, and capture their filenames and labels, let's just capture all the bicycles and motorcycles and save them. The fictional company can use a model that tells these apart to route delivery drivers automatically.\n",
    "\n",
    "In the following cell, we will identify the label numbers for Bicycles and Motorcycles:"
   ]
  },
  {
   "cell_type": "code",
   "execution_count": 155,
   "metadata": {},
   "outputs": [
    {
     "name": "stdout",
     "output_type": "stream",
     "text": [
      "[8, 48]\n"
     ]
    }
   ],
   "source": [
    "import pandas as pd\n",
    "\n",
    "# create dataframe from dataset_meta dictionary\n",
    "df_meta=pd.DataFrame(dataset_meta[b'fine_label_names'])\n",
    "\n",
    "# convert byte values to strings\n",
    "df_meta=df_meta.apply(lambda x: x.str.decode('utf-8'))\n",
    "\n",
    "# filter dataframe to find label numbers for bicycle and motorcycle\n",
    "print(df_meta.index[(df_meta.iloc[:, 0]==\"bicycle\") | (df_meta.iloc[:, 0]==\"motorcycle\")].tolist())"
   ]
  },
  {
   "cell_type": "markdown",
   "metadata": {},
   "source": [
    "We only need objects with label 8 and 48 -- this drastically simplifies our handling of the data! Below we create a dataframe, and safely drop the rows that don't contain observations about bicycles and motorcycles."
   ]
  },
  {
   "cell_type": "code",
   "execution_count": 156,
   "metadata": {},
   "outputs": [],
   "source": [
    "#Construct the dataframe\n",
    "df_train = pd.DataFrame({\n",
    "    \"filenames\": dataset_train[b'filenames'],\n",
    "    \"labels\": dataset_train[b'fine_labels'],\n",
    "    \"row\": range(len(dataset_train[b'filenames']))\n",
    "})\n",
    "\n",
    "# Drop all rows from df_train where label is not 8 or 48\n",
    "df_train = df_train[df_train[\"labels\"].isin([8, 48])]\n",
    "\n",
    "# Decode df_train.filenames so they are regular strings\n",
    "df_train[\"filenames\"] = df_train[\"filenames\"].apply(\n",
    "    lambda x: x.decode(\"utf-8\")\n",
    ")\n",
    "\n",
    "df_test = pd.DataFrame({\n",
    "    \"filenames\": dataset_test[b'filenames'],\n",
    "    \"labels\": dataset_test[b'fine_labels'],\n",
    "    \"row\": range(len(dataset_test[b'filenames']))\n",
    "})\n",
    "\n",
    "# Drop all rows from df_test where label is not 8 or 48\n",
    "df_test = df_test[df_test[\"labels\"].isin([8, 48])]\n",
    "\n",
    "# Decode df_test.filenames so they are regular strings\n",
    "df_test[\"filenames\"] = df_test[\"filenames\"].apply(\n",
    "    lambda x: x.decode(\"utf-8\")\n",
    ")"
   ]
  },
  {
   "cell_type": "markdown",
   "metadata": {},
   "source": [
    "Now that the data is filtered for just our classes, we can save all our images."
   ]
  },
  {
   "cell_type": "code",
   "execution_count": 157,
   "metadata": {},
   "outputs": [],
   "source": [
    "!mkdir ./train\n",
    "!mkdir ./test"
   ]
  },
  {
   "cell_type": "markdown",
   "metadata": {},
   "source": [
    "We will now compose some of the previous code snippets together into a function that saves all the images into the `./test` and `./train` directories."
   ]
  },
  {
   "cell_type": "code",
   "execution_count": 158,
   "metadata": {},
   "outputs": [],
   "source": [
    "def save_images(dataset, idx, path='./images', filename=\"file.png\"):\n",
    "    #Grab the image data in row-major form\n",
    "    img = dataset[idx]\n",
    "    \n",
    "    # Consolidated stacking/reshaping from earlier\n",
    "    target = np.dstack((\n",
    "        img[0:1024].reshape(32,32),\n",
    "        img[1024:2048].reshape(32,32),\n",
    "        img[2048:].reshape(32,32)\n",
    "    ))\n",
    "\n",
    "    # Save the image\n",
    "    plt.imsave(path + '/' + filename, target)\n",
    "    \n",
    "    return \n",
    "\n",
    "# Save Train Images\n",
    "for row in df_train.itertuples():\n",
    "    index = (row[0])\n",
    "    filename = (row[1])\n",
    "    save_images(dataset_train[b\"data\"], index, \"./train\", filename)\n",
    "\n",
    "# Save Train Images\n",
    "for row in df_test.itertuples():\n",
    "    index = (row[0])\n",
    "    filename = (row[1])\n",
    "    save_images(dataset_test[b\"data\"], index, \"./test\", filename)"
   ]
  },
  {
   "cell_type": "markdown",
   "metadata": {},
   "source": [
    "### 3. Load the data\n",
    "\n",
    "Now we can load the data into S3.\n",
    "\n",
    "Using the sagemaker SDK grab the current region, execution role, and bucket."
   ]
  },
  {
   "cell_type": "code",
   "execution_count": 1,
   "metadata": {},
   "outputs": [
    {
     "name": "stdout",
     "output_type": "stream",
     "text": [
      "sagemaker.config INFO - Not applying SDK defaults from location: /etc/xdg/sagemaker/config.yaml\n",
      "sagemaker.config INFO - Not applying SDK defaults from location: /home/sagemaker-user/.config/sagemaker/config.yaml\n",
      "Default Bucket: sagemaker-us-east-1-641948205787\n",
      "AWS Region: us-east-1\n",
      "RoleArn: arn:aws:iam::641948205787:role/service-role/AmazonSageMaker-ExecutionRole-20240710T172011\n"
     ]
    }
   ],
   "source": [
    "import sagemaker\n",
    "\n",
    "session = sagemaker.Session()\n",
    "\n",
    "bucket = session.default_bucket()\n",
    "print(\"Default Bucket: {}\".format(bucket))\n",
    "\n",
    "region = session.boto_region_name\n",
    "print(\"AWS Region: {}\".format(region))\n",
    "\n",
    "role = sagemaker.get_execution_role()\n",
    "print(\"RoleArn: {}\".format(role))"
   ]
  },
  {
   "cell_type": "markdown",
   "metadata": {},
   "source": [
    "With this data we can easily sync the data up into S3!"
   ]
  },
  {
   "cell_type": "code",
   "execution_count": 318,
   "metadata": {},
   "outputs": [],
   "source": [
    "import os\n",
    "\n",
    "os.environ[\"DEFAULT_S3_BUCKET\"] = bucket\n",
    "# already synced. Uncomment to sync to S3\n",
    "#!aws s3 sync ./train s3://${DEFAULT_S3_BUCKET}/train/;\n",
    "#!aws s3 sync ./test s3://${DEFAULT_S3_BUCKET}/test/;"
   ]
  },
  {
   "cell_type": "markdown",
   "metadata": {},
   "source": [
    "And that's it! You can check the bucket and verify that the items were uploaded.\n",
    "\n",
    "## Model Training\n",
    "\n",
    "For Image Classification, Sagemaker [also expects metadata](https://docs.aws.amazon.com/sagemaker/latest/dg/image-classification.html) e.g. in the form of TSV files with labels and filepaths. We can generate these using our Pandas DataFrames from earlier:"
   ]
  },
  {
   "cell_type": "code",
   "execution_count": 161,
   "metadata": {},
   "outputs": [],
   "source": [
    "def to_metadata_file(df, prefix):\n",
    "    df[\"s3_path\"] = df[\"filenames\"]\n",
    "    df[\"labels\"] = df[\"labels\"].apply(lambda x: 0 if x==8 else 1)\n",
    "    return df[[\"row\", \"labels\", \"s3_path\"]].to_csv(\n",
    "        f\"{prefix}.lst\", sep=\"\\t\", index=False, header=False\n",
    "    )\n",
    "    \n",
    "to_metadata_file(df_train.copy(), \"train\")\n",
    "to_metadata_file(df_test.copy(), \"test\")"
   ]
  },
  {
   "cell_type": "markdown",
   "metadata": {},
   "source": [
    "We can also upload our manifest files:"
   ]
  },
  {
   "cell_type": "code",
   "execution_count": 162,
   "metadata": {},
   "outputs": [],
   "source": [
    "import boto3\n",
    "\n",
    "# Upload files\n",
    "boto3.Session().resource('s3').Bucket(\n",
    "    bucket).Object('train.lst').upload_file('./train.lst')\n",
    "boto3.Session().resource('s3').Bucket(\n",
    "    bucket).Object('test.lst').upload_file('./test.lst')"
   ]
  },
  {
   "cell_type": "markdown",
   "metadata": {},
   "source": [
    "Using the `bucket` and `region` info we can get the latest prebuilt container to run our training job, and define an output location on our s3 bucket for the model. We use the `image_uris` function from the SageMaker SDK to retrieve the latest `image-classification` image below:"
   ]
  },
  {
   "cell_type": "code",
   "execution_count": 95,
   "metadata": {},
   "outputs": [
    {
     "name": "stderr",
     "output_type": "stream",
     "text": [
      "Defaulting to the only supported framework/algorithm version: 1. Ignoring framework/algorithm version: latest.\n"
     ]
    }
   ],
   "source": [
    "# Use the image_uris function to retrieve the latest 'image-classification' image \n",
    "algo_image = sagemaker.image_uris.retrieve(framework=\"image-classification\", region=region, version=\"latest\")\n",
    "s3_output_location = f\"s3://{bucket}/models/image_model\""
   ]
  },
  {
   "cell_type": "markdown",
   "metadata": {},
   "source": [
    "We're ready to create an estimator! Below, an estimator `img_classifier_model` that uses one instance of `ml.p3.2xlarge` is created."
   ]
  },
  {
   "cell_type": "code",
   "execution_count": 96,
   "metadata": {},
   "outputs": [],
   "source": [
    "img_classifier_model=sagemaker.estimator.Estimator(\n",
    "        role = role,\n",
    "        image_uri = algo_image,\n",
    "        instance_count = 1,\n",
    "        instance_type = \"ml.p3.2xlarge\",\n",
    "        output_path = s3_output_location\n",
    ")"
   ]
  },
  {
   "cell_type": "markdown",
   "metadata": {},
   "source": [
    "We can also set a few key hyperparameters and define the inputs for our model:"
   ]
  },
  {
   "cell_type": "code",
   "execution_count": 97,
   "metadata": {},
   "outputs": [],
   "source": [
    "img_classifier_model.set_hyperparameters(\n",
    "    image_shape = \"3,32,32\",\n",
    "    num_classes = 2,\n",
    "    num_training_samples = len(df_train),\n",
    ")"
   ]
  },
  {
   "cell_type": "markdown",
   "metadata": {},
   "source": [
    "The `image-classification` image uses four input channels with very specific input parameters defined below."
   ]
  },
  {
   "cell_type": "code",
   "execution_count": 98,
   "metadata": {},
   "outputs": [],
   "source": [
    "from sagemaker.debugger import Rule, rule_configs\n",
    "from sagemaker.session import TrainingInput\n",
    "model_inputs = {\n",
    "        \"train\": sagemaker.inputs.TrainingInput(\n",
    "            s3_data=f\"s3://{bucket}/train/\",\n",
    "            content_type=\"application/x-image\"\n",
    "        ),\n",
    "        \"validation\": sagemaker.inputs.TrainingInput(\n",
    "            s3_data=f\"s3://{bucket}/test/\",\n",
    "            content_type=\"application/x-image\"\n",
    "        ),\n",
    "        \"train_lst\": sagemaker.inputs.TrainingInput(\n",
    "            s3_data=f\"s3://{bucket}/train.lst\",\n",
    "            content_type=\"application/x-image\"\n",
    "        ),\n",
    "        \"validation_lst\": sagemaker.inputs.TrainingInput(\n",
    "            s3_data=f\"s3://{bucket}/test.lst\",\n",
    "            content_type=\"application/x-image\"\n",
    "        )\n",
    "}"
   ]
  },
  {
   "cell_type": "markdown",
   "metadata": {},
   "source": [
    "Great, now we can train the model using the model_inputs. In the cell below, we call the `fit` method on the model:"
   ]
  },
  {
   "cell_type": "code",
   "execution_count": 99,
   "metadata": {},
   "outputs": [
    {
     "name": "stderr",
     "output_type": "stream",
     "text": [
      "INFO:sagemaker:Creating training-job with name: image-classification-2024-08-04-18-30-50-876\n"
     ]
    },
    {
     "name": "stdout",
     "output_type": "stream",
     "text": [
      "2024-08-04 18:30:51 Starting - Starting the training job...\n",
      "2024-08-04 18:30:51 Pending - Training job waiting for capacity....................................\n",
      "2024-08-04 18:36:55 Pending - Preparing the instances for training...\n",
      "2024-08-04 18:37:52 Downloading - Downloading the training image...........................\n",
      "2024-08-04 18:42:05 Training - Training image download completed. Training in progress..\u001b[34mDocker entrypoint called with argument(s): train\u001b[0m\n",
      "\u001b[34mRunning default environment configuration script\u001b[0m\n",
      "\u001b[34mNvidia gpu devices, drivers and cuda toolkit versions (only available on hosts with GPU):\u001b[0m\n",
      "\u001b[34mSun Aug  4 18:42:25 2024       \u001b[0m\n",
      "\u001b[34m+---------------------------------------------------------------------------------------+\u001b[0m\n",
      "\u001b[34m| NVIDIA-SMI 535.183.01             Driver Version: 535.183.01   CUDA Version: 12.2     |\u001b[0m\n",
      "\u001b[34m|-----------------------------------------+----------------------+----------------------+\u001b[0m\n",
      "\u001b[34m| GPU  Name                 Persistence-M | Bus-Id        Disp.A | Volatile Uncorr. ECC |\u001b[0m\n",
      "\u001b[34m| Fan  Temp   Perf          Pwr:Usage/Cap |         Memory-Usage | GPU-Util  Compute M. |\u001b[0m\n",
      "\u001b[34m|                                         |                      |               MIG M. |\u001b[0m\n",
      "\u001b[34m|=========================================+======================+======================|\u001b[0m\n",
      "\u001b[34m|   0  Tesla V100-SXM2-16GB           On  | 00000000:00:1E.0 Off |                    0 |\u001b[0m\n",
      "\u001b[34m| N/A   39C    P0              24W / 300W |      0MiB / 16384MiB |      0%      Default |\u001b[0m\n",
      "\u001b[34m|                                         |                      |                  N/A |\u001b[0m\n",
      "\u001b[34m+-----------------------------------------+----------------------+----------------------+\n",
      "                                                                                         \u001b[0m\n",
      "\u001b[34m+---------------------------------------------------------------------------------------+\u001b[0m\n",
      "\u001b[34m| Processes:                                                                            |\u001b[0m\n",
      "\u001b[34m|  GPU   GI   CI        PID   Type   Process name                            GPU Memory |\u001b[0m\n",
      "\u001b[34m|        ID   ID                                                             Usage      |\u001b[0m\n",
      "\u001b[34m|=======================================================================================|\u001b[0m\n",
      "\u001b[34m|  No running processes found                                                           |\u001b[0m\n",
      "\u001b[34m+---------------------------------------------------------------------------------------+\u001b[0m\n",
      "\u001b[34mChecking for nvidia driver and cuda compatibility.\u001b[0m\n",
      "\u001b[34mCUDA Compatibility driver provided.\u001b[0m\n",
      "\u001b[34mProceeding with compatibility check between driver, cuda-toolkit and cuda-compat.\u001b[0m\n",
      "\u001b[34mDetected cuda-toolkit version: 11.1.\u001b[0m\n",
      "\u001b[34mDetected cuda-compat version: 455.32.00.\u001b[0m\n",
      "\u001b[34mDetected Nvidia driver version: 535.183.01.\u001b[0m\n",
      "\u001b[34mNvidia driver compatible with cuda-toolkit. Disabling cuda-compat.\u001b[0m\n",
      "\u001b[34m/opt/amazon/lib/python3.8/site-packages/mxnet/model.py:97: SyntaxWarning: \"is\" with a literal. Did you mean \"==\"?\n",
      "  if num_device is 1 and 'dist' not in kvstore:\u001b[0m\n",
      "\u001b[34m[08/04/2024 18:42:29 INFO 140489782138688] Reading default configuration from /opt/amazon/lib/python3.8/site-packages/image_classification/default-input.json: {'use_pretrained_model': 0, 'num_layers': 152, 'epochs': 30, 'learning_rate': 0.1, 'lr_scheduler_factor': 0.1, 'optimizer': 'sgd', 'momentum': 0, 'weight_decay': 0.0001, 'beta_1': 0.9, 'beta_2': 0.999, 'eps': 1e-08, 'gamma': 0.9, 'mini_batch_size': 32, 'image_shape': '3,224,224', 'precision_dtype': 'float32'}\u001b[0m\n",
      "\u001b[34m[08/04/2024 18:42:29 INFO 140489782138688] Merging with provided configuration from /opt/ml/input/config/hyperparameters.json: {'image_shape': '3,32,32', 'num_classes': '2', 'num_training_samples': '1000'}\u001b[0m\n",
      "\u001b[34m[08/04/2024 18:42:29 INFO 140489782138688] Final configuration: {'use_pretrained_model': 0, 'num_layers': 152, 'epochs': 30, 'learning_rate': 0.1, 'lr_scheduler_factor': 0.1, 'optimizer': 'sgd', 'momentum': 0, 'weight_decay': 0.0001, 'beta_1': 0.9, 'beta_2': 0.999, 'eps': 1e-08, 'gamma': 0.9, 'mini_batch_size': 32, 'image_shape': '3,32,32', 'precision_dtype': 'float32', 'num_classes': '2', 'num_training_samples': '1000'}\u001b[0m\n",
      "\u001b[34m[08/04/2024 18:42:29 INFO 140489782138688] Searching for .lst files in /opt/ml/input/data/train_lst.\u001b[0m\n",
      "\u001b[34m[08/04/2024 18:42:29 INFO 140489782138688] Creating record files for train.lst\u001b[0m\n",
      "\u001b[34m[08/04/2024 18:42:29 INFO 140489782138688] Done creating record files...\u001b[0m\n",
      "\u001b[34m[08/04/2024 18:42:29 INFO 140489782138688] Searching for .lst files in /opt/ml/input/data/validation_lst.\u001b[0m\n",
      "\u001b[34m[08/04/2024 18:42:29 INFO 140489782138688] Creating record files for test.lst\u001b[0m\n",
      "\u001b[34m[08/04/2024 18:42:29 INFO 140489782138688] Done creating record files...\u001b[0m\n",
      "\u001b[34m[08/04/2024 18:42:29 INFO 140489782138688] use_pretrained_model: 0\u001b[0m\n",
      "\u001b[34m[08/04/2024 18:42:29 INFO 140489782138688] multi_label: 0\u001b[0m\n",
      "\u001b[34m[08/04/2024 18:42:29 INFO 140489782138688] Performing random weight initialization\u001b[0m\n",
      "\u001b[34m[08/04/2024 18:42:29 INFO 140489782138688] ---- Parameters ----\u001b[0m\n",
      "\u001b[34m[08/04/2024 18:42:29 INFO 140489782138688] num_layers: 152\u001b[0m\n",
      "\u001b[34m[08/04/2024 18:42:29 INFO 140489782138688] data type: <class 'numpy.float32'>\u001b[0m\n",
      "\u001b[34m[08/04/2024 18:42:29 INFO 140489782138688] epochs: 30\u001b[0m\n",
      "\u001b[34m[08/04/2024 18:42:29 INFO 140489782138688] optimizer: sgd\u001b[0m\n",
      "\u001b[34m[08/04/2024 18:42:29 INFO 140489782138688] momentum: 0.9\u001b[0m\n",
      "\u001b[34m[08/04/2024 18:42:29 INFO 140489782138688] weight_decay: 0.0001\u001b[0m\n",
      "\u001b[34m[08/04/2024 18:42:29 INFO 140489782138688] learning_rate: 0.1\u001b[0m\n",
      "\u001b[34m[08/04/2024 18:42:29 INFO 140489782138688] num_training_samples: 1000\u001b[0m\n",
      "\u001b[34m[08/04/2024 18:42:29 INFO 140489782138688] mini_batch_size: 32\u001b[0m\n",
      "\u001b[34m[08/04/2024 18:42:29 INFO 140489782138688] image_shape: 3,32,32\u001b[0m\n",
      "\u001b[34m[08/04/2024 18:42:29 INFO 140489782138688] num_classes: 2\u001b[0m\n",
      "\u001b[34m[08/04/2024 18:42:29 INFO 140489782138688] augmentation_type: None\u001b[0m\n",
      "\u001b[34m[08/04/2024 18:42:29 INFO 140489782138688] kv_store: device\u001b[0m\n",
      "\u001b[34m[08/04/2024 18:42:29 INFO 140489782138688] checkpoint_frequency not set, will store the best model\u001b[0m\n",
      "\u001b[34m[08/04/2024 18:42:29 INFO 140489782138688] --------------------\u001b[0m\n",
      "\u001b[34m/opt/amazon/python3.8/lib/python3.8/subprocess.py:848: RuntimeWarning: line buffering (buffering=1) isn't supported in binary mode, the default buffer size will be used\n",
      "  self.stdout = io.open(c2pread, 'rb', bufsize)\u001b[0m\n",
      "\u001b[34m[08/04/2024 18:42:29 INFO 140489782138688] Setting number of threads: 7\u001b[0m\n",
      "\u001b[34m[18:42:33] /opt/brazil-pkg-cache/packages/AIAlgorithmsMXNet/AIAlgorithmsMXNet-1.4.x_ecl_Cuda_11.1.x.379.0/AL2_x86_64/generic-flavor/src/src/operator/nn/./cudnn/./cudnn_algoreg-inl.h:97: Running performance tests to find the best convolution algorithm, this can take a while... (setting env variable MXNET_CUDNN_AUTOTUNE_DEFAULT to 0 to disable)\u001b[0m\n",
      "\u001b[34m[08/04/2024 18:42:38 INFO 140489782138688] Epoch[0] Batch [20]#011Speed: 125.055 samples/sec#011accuracy=0.566964\u001b[0m\n",
      "\u001b[34m[08/04/2024 18:42:40 INFO 140489782138688] Epoch[0] Train-accuracy=0.623992\u001b[0m\n",
      "\u001b[34m[08/04/2024 18:42:40 INFO 140489782138688] Epoch[0] Time cost=6.722\u001b[0m\n",
      "\u001b[34m[08/04/2024 18:42:40 INFO 140489782138688] Epoch[0] Validation-accuracy=0.494792\u001b[0m\n",
      "\u001b[34m[08/04/2024 18:42:41 INFO 140489782138688] Storing the best model with validation accuracy: 0.494792\u001b[0m\n",
      "\u001b[34m[08/04/2024 18:42:41 INFO 140489782138688] Saved checkpoint to \"/opt/ml/model/image-classification-0001.params\"\u001b[0m\n",
      "\u001b[34m[08/04/2024 18:42:44 INFO 140489782138688] Epoch[1] Batch [20]#011Speed: 190.227 samples/sec#011accuracy=0.614583\u001b[0m\n",
      "\u001b[34m[08/04/2024 18:42:46 INFO 140489782138688] Epoch[1] Train-accuracy=0.638105\u001b[0m\n",
      "\u001b[34m[08/04/2024 18:42:46 INFO 140489782138688] Epoch[1] Time cost=4.987\u001b[0m\n",
      "\u001b[34m[08/04/2024 18:42:46 INFO 140489782138688] Epoch[1] Validation-accuracy=0.500000\u001b[0m\n",
      "\u001b[34m[08/04/2024 18:42:47 INFO 140489782138688] Storing the best model with validation accuracy: 0.500000\u001b[0m\n",
      "\u001b[34m[08/04/2024 18:42:47 INFO 140489782138688] Saved checkpoint to \"/opt/ml/model/image-classification-0002.params\"\u001b[0m\n",
      "\u001b[34m[08/04/2024 18:42:50 INFO 140489782138688] Epoch[2] Batch [20]#011Speed: 195.078 samples/sec#011accuracy=0.693452\u001b[0m\n",
      "\u001b[34m[08/04/2024 18:42:52 INFO 140489782138688] Epoch[2] Train-accuracy=0.710685\u001b[0m\n",
      "\u001b[34m[08/04/2024 18:42:52 INFO 140489782138688] Epoch[2] Time cost=4.903\u001b[0m\n",
      "\u001b[34m[08/04/2024 18:42:53 INFO 140489782138688] Epoch[2] Validation-accuracy=0.776042\u001b[0m\n",
      "\u001b[34m[08/04/2024 18:42:53 INFO 140489782138688] Storing the best model with validation accuracy: 0.776042\u001b[0m\n",
      "\u001b[34m[08/04/2024 18:42:53 INFO 140489782138688] Saved checkpoint to \"/opt/ml/model/image-classification-0003.params\"\u001b[0m\n",
      "\u001b[34m[08/04/2024 18:42:56 INFO 140489782138688] Epoch[3] Batch [20]#011Speed: 193.854 samples/sec#011accuracy=0.739583\u001b[0m\n",
      "\u001b[34m[08/04/2024 18:42:58 INFO 140489782138688] Epoch[3] Train-accuracy=0.770161\u001b[0m\n",
      "\u001b[34m[08/04/2024 18:42:58 INFO 140489782138688] Epoch[3] Time cost=4.935\u001b[0m\n",
      "\u001b[34m[08/04/2024 18:42:59 INFO 140489782138688] Epoch[3] Validation-accuracy=0.767857\u001b[0m\n",
      "\u001b[34m[08/04/2024 18:43:03 INFO 140489782138688] Epoch[4] Batch [20]#011Speed: 188.671 samples/sec#011accuracy=0.767857\u001b[0m\n",
      "\u001b[34m[08/04/2024 18:43:04 INFO 140489782138688] Epoch[4] Train-accuracy=0.771169\u001b[0m\n",
      "\u001b[34m[08/04/2024 18:43:04 INFO 140489782138688] Epoch[4] Time cost=5.023\u001b[0m\n",
      "\u001b[34m[08/04/2024 18:43:05 INFO 140489782138688] Epoch[4] Validation-accuracy=0.755208\u001b[0m\n",
      "\u001b[34m[08/04/2024 18:43:08 INFO 140489782138688] Epoch[5] Batch [20]#011Speed: 193.560 samples/sec#011accuracy=0.796131\u001b[0m\n",
      "\u001b[34m[08/04/2024 18:43:10 INFO 140489782138688] Epoch[5] Train-accuracy=0.791331\u001b[0m\n",
      "\u001b[34m[08/04/2024 18:43:10 INFO 140489782138688] Epoch[5] Time cost=4.935\u001b[0m\n",
      "\u001b[34m[08/04/2024 18:43:10 INFO 140489782138688] Epoch[5] Validation-accuracy=0.807292\u001b[0m\n",
      "\u001b[34m[08/04/2024 18:43:11 INFO 140489782138688] Storing the best model with validation accuracy: 0.807292\u001b[0m\n",
      "\u001b[34m[08/04/2024 18:43:11 INFO 140489782138688] Saved checkpoint to \"/opt/ml/model/image-classification-0006.params\"\u001b[0m\n",
      "\u001b[34m[08/04/2024 18:43:15 INFO 140489782138688] Epoch[6] Batch [20]#011Speed: 193.281 samples/sec#011accuracy=0.821429\u001b[0m\n",
      "\u001b[34m[08/04/2024 18:43:16 INFO 140489782138688] Epoch[6] Train-accuracy=0.811492\u001b[0m\n",
      "\u001b[34m[08/04/2024 18:43:16 INFO 140489782138688] Epoch[6] Time cost=4.921\u001b[0m\n",
      "\u001b[34m[08/04/2024 18:43:17 INFO 140489782138688] Epoch[6] Validation-accuracy=0.796875\u001b[0m\n",
      "\u001b[34m[08/04/2024 18:43:20 INFO 140489782138688] Epoch[7] Batch [20]#011Speed: 194.952 samples/sec#011accuracy=0.806548\u001b[0m\n",
      "\u001b[34m[08/04/2024 18:43:22 INFO 140489782138688] Epoch[7] Train-accuracy=0.805444\u001b[0m\n",
      "\u001b[34m[08/04/2024 18:43:22 INFO 140489782138688] Epoch[7] Time cost=4.914\u001b[0m\n",
      "\u001b[34m[08/04/2024 18:43:23 INFO 140489782138688] Epoch[7] Validation-accuracy=0.700893\u001b[0m\n",
      "\u001b[34m[08/04/2024 18:43:26 INFO 140489782138688] Epoch[8] Batch [20]#011Speed: 192.481 samples/sec#011accuracy=0.812500\u001b[0m\n",
      "\u001b[34m[08/04/2024 18:43:28 INFO 140489782138688] Epoch[8] Train-accuracy=0.819556\u001b[0m\n",
      "\u001b[34m[08/04/2024 18:43:28 INFO 140489782138688] Epoch[8] Time cost=4.948\u001b[0m\n",
      "\u001b[34m[08/04/2024 18:43:28 INFO 140489782138688] Epoch[8] Validation-accuracy=0.822917\u001b[0m\n",
      "\u001b[34m[08/04/2024 18:43:29 INFO 140489782138688] Storing the best model with validation accuracy: 0.822917\u001b[0m\n",
      "\u001b[34m[08/04/2024 18:43:29 INFO 140489782138688] Saved checkpoint to \"/opt/ml/model/image-classification-0009.params\"\u001b[0m\n",
      "\u001b[34m[08/04/2024 18:43:32 INFO 140489782138688] Epoch[9] Batch [20]#011Speed: 194.887 samples/sec#011accuracy=0.805060\u001b[0m\n",
      "\u001b[34m[08/04/2024 18:43:34 INFO 140489782138688] Epoch[9] Train-accuracy=0.810484\u001b[0m\n",
      "\u001b[34m[08/04/2024 18:43:34 INFO 140489782138688] Epoch[9] Time cost=4.896\u001b[0m\n",
      "\u001b[34m[08/04/2024 18:43:34 INFO 140489782138688] Epoch[9] Validation-accuracy=0.848958\u001b[0m\n",
      "\u001b[34m[08/04/2024 18:43:35 INFO 140489782138688] Storing the best model with validation accuracy: 0.848958\u001b[0m\n",
      "\u001b[34m[08/04/2024 18:43:35 INFO 140489782138688] Saved checkpoint to \"/opt/ml/model/image-classification-0010.params\"\u001b[0m\n",
      "\u001b[34m[08/04/2024 18:43:38 INFO 140489782138688] Epoch[10] Batch [20]#011Speed: 193.372 samples/sec#011accuracy=0.834821\u001b[0m\n",
      "\u001b[34m[08/04/2024 18:43:40 INFO 140489782138688] Epoch[10] Train-accuracy=0.838710\u001b[0m\n",
      "\u001b[34m[08/04/2024 18:43:40 INFO 140489782138688] Epoch[10] Time cost=4.924\u001b[0m\n",
      "\u001b[34m[08/04/2024 18:43:40 INFO 140489782138688] Epoch[10] Validation-accuracy=0.843750\u001b[0m\n",
      "\u001b[34m[08/04/2024 18:43:44 INFO 140489782138688] Epoch[11] Batch [20]#011Speed: 193.679 samples/sec#011accuracy=0.831845\u001b[0m\n",
      "\u001b[34m[08/04/2024 18:43:46 INFO 140489782138688] Epoch[11] Train-accuracy=0.828629\u001b[0m\n",
      "\u001b[34m[08/04/2024 18:43:46 INFO 140489782138688] Epoch[11] Time cost=4.923\u001b[0m\n",
      "\u001b[34m[08/04/2024 18:43:46 INFO 140489782138688] Epoch[11] Validation-accuracy=0.843750\u001b[0m\n",
      "\u001b[34m[08/04/2024 18:43:50 INFO 140489782138688] Epoch[12] Batch [20]#011Speed: 194.615 samples/sec#011accuracy=0.860119\u001b[0m\n",
      "\u001b[34m[08/04/2024 18:43:52 INFO 140489782138688] Epoch[12] Train-accuracy=0.855847\u001b[0m\n",
      "\u001b[34m[08/04/2024 18:43:52 INFO 140489782138688] Epoch[12] Time cost=4.904\u001b[0m\n",
      "\u001b[34m[08/04/2024 18:43:52 INFO 140489782138688] Epoch[12] Validation-accuracy=0.854167\u001b[0m\n",
      "\u001b[34m[08/04/2024 18:43:53 INFO 140489782138688] Storing the best model with validation accuracy: 0.854167\u001b[0m\n",
      "\u001b[34m[08/04/2024 18:43:53 INFO 140489782138688] Saved checkpoint to \"/opt/ml/model/image-classification-0013.params\"\u001b[0m\n",
      "\u001b[34m[08/04/2024 18:43:56 INFO 140489782138688] Epoch[13] Batch [20]#011Speed: 193.971 samples/sec#011accuracy=0.857143\u001b[0m\n",
      "\u001b[34m[08/04/2024 18:43:58 INFO 140489782138688] Epoch[13] Train-accuracy=0.868952\u001b[0m\n",
      "\u001b[34m[08/04/2024 18:43:58 INFO 140489782138688] Epoch[13] Time cost=4.915\u001b[0m\n",
      "\u001b[34m[08/04/2024 18:43:58 INFO 140489782138688] Epoch[13] Validation-accuracy=0.859375\u001b[0m\n",
      "\u001b[34m[08/04/2024 18:43:59 INFO 140489782138688] Storing the best model with validation accuracy: 0.859375\u001b[0m\n",
      "\u001b[34m[08/04/2024 18:43:59 INFO 140489782138688] Saved checkpoint to \"/opt/ml/model/image-classification-0014.params\"\u001b[0m\n",
      "\u001b[34m[08/04/2024 18:44:02 INFO 140489782138688] Epoch[14] Batch [20]#011Speed: 192.431 samples/sec#011accuracy=0.889881\u001b[0m\n",
      "\u001b[34m[08/04/2024 18:44:04 INFO 140489782138688] Epoch[14] Train-accuracy=0.872984\u001b[0m\n",
      "\u001b[34m[08/04/2024 18:44:04 INFO 140489782138688] Epoch[14] Time cost=5.001\u001b[0m\n",
      "\u001b[34m[08/04/2024 18:44:04 INFO 140489782138688] Epoch[14] Validation-accuracy=0.838542\u001b[0m\n",
      "\u001b[34m[08/04/2024 18:44:08 INFO 140489782138688] Epoch[15] Batch [20]#011Speed: 196.042 samples/sec#011accuracy=0.882440\u001b[0m\n",
      "\u001b[34m[08/04/2024 18:44:10 INFO 140489782138688] Epoch[15] Train-accuracy=0.867944\u001b[0m\n",
      "\u001b[34m[08/04/2024 18:44:10 INFO 140489782138688] Epoch[15] Time cost=4.879\u001b[0m\n",
      "\u001b[34m[08/04/2024 18:44:10 INFO 140489782138688] Epoch[15] Validation-accuracy=0.808036\u001b[0m\n",
      "\u001b[34m[08/04/2024 18:44:14 INFO 140489782138688] Epoch[16] Batch [20]#011Speed: 193.177 samples/sec#011accuracy=0.897321\u001b[0m\n",
      "\u001b[34m[08/04/2024 18:44:16 INFO 140489782138688] Epoch[16] Train-accuracy=0.867944\u001b[0m\n",
      "\u001b[34m[08/04/2024 18:44:16 INFO 140489782138688] Epoch[16] Time cost=4.927\u001b[0m\n",
      "\u001b[34m[08/04/2024 18:44:16 INFO 140489782138688] Epoch[16] Validation-accuracy=0.770833\u001b[0m\n",
      "\u001b[34m[08/04/2024 18:44:20 INFO 140489782138688] Epoch[17] Batch [20]#011Speed: 193.633 samples/sec#011accuracy=0.877976\u001b[0m\n",
      "\u001b[34m[08/04/2024 18:44:21 INFO 140489782138688] Epoch[17] Train-accuracy=0.881048\u001b[0m\n",
      "\u001b[34m[08/04/2024 18:44:21 INFO 140489782138688] Epoch[17] Time cost=4.949\u001b[0m\n",
      "\u001b[34m[08/04/2024 18:44:22 INFO 140489782138688] Epoch[17] Validation-accuracy=0.875000\u001b[0m\n",
      "\u001b[34m[08/04/2024 18:44:22 INFO 140489782138688] Storing the best model with validation accuracy: 0.875000\u001b[0m\n",
      "\u001b[34m[08/04/2024 18:44:23 INFO 140489782138688] Saved checkpoint to \"/opt/ml/model/image-classification-0018.params\"\u001b[0m\n",
      "\u001b[34m[08/04/2024 18:44:26 INFO 140489782138688] Epoch[18] Batch [20]#011Speed: 194.149 samples/sec#011accuracy=0.909226\u001b[0m\n",
      "\u001b[34m[08/04/2024 18:44:27 INFO 140489782138688] Epoch[18] Train-accuracy=0.915323\u001b[0m\n",
      "\u001b[34m[08/04/2024 18:44:27 INFO 140489782138688] Epoch[18] Time cost=4.908\u001b[0m\n",
      "\u001b[34m[08/04/2024 18:44:28 INFO 140489782138688] Epoch[18] Validation-accuracy=0.812500\u001b[0m\n",
      "\u001b[34m[08/04/2024 18:44:32 INFO 140489782138688] Epoch[19] Batch [20]#011Speed: 194.876 samples/sec#011accuracy=0.921131\u001b[0m\n",
      "\u001b[34m[08/04/2024 18:44:33 INFO 140489782138688] Epoch[19] Train-accuracy=0.901210\u001b[0m\n",
      "\u001b[34m[08/04/2024 18:44:33 INFO 140489782138688] Epoch[19] Time cost=4.916\u001b[0m\n",
      "\u001b[34m[08/04/2024 18:44:34 INFO 140489782138688] Epoch[19] Validation-accuracy=0.808036\u001b[0m\n",
      "\u001b[34m[08/04/2024 18:44:38 INFO 140489782138688] Epoch[20] Batch [20]#011Speed: 193.865 samples/sec#011accuracy=0.928571\u001b[0m\n",
      "\u001b[34m[08/04/2024 18:44:39 INFO 140489782138688] Epoch[20] Train-accuracy=0.919355\u001b[0m\n",
      "\u001b[34m[08/04/2024 18:44:39 INFO 140489782138688] Epoch[20] Time cost=4.932\u001b[0m\n",
      "\u001b[34m[08/04/2024 18:44:40 INFO 140489782138688] Epoch[20] Validation-accuracy=0.760417\u001b[0m\n",
      "\u001b[34m[08/04/2024 18:44:43 INFO 140489782138688] Epoch[21] Batch [20]#011Speed: 195.124 samples/sec#011accuracy=0.943452\u001b[0m\n",
      "\u001b[34m[08/04/2024 18:44:45 INFO 140489782138688] Epoch[21] Train-accuracy=0.942540\u001b[0m\n",
      "\u001b[34m[08/04/2024 18:44:45 INFO 140489782138688] Epoch[21] Time cost=4.900\u001b[0m\n",
      "\u001b[34m[08/04/2024 18:44:46 INFO 140489782138688] Epoch[21] Validation-accuracy=0.833333\u001b[0m\n",
      "\u001b[34m[08/04/2024 18:44:49 INFO 140489782138688] Epoch[22] Batch [20]#011Speed: 194.939 samples/sec#011accuracy=0.952381\u001b[0m\n",
      "\u001b[34m[08/04/2024 18:44:51 INFO 140489782138688] Epoch[22] Train-accuracy=0.939516\u001b[0m\n",
      "\u001b[34m[08/04/2024 18:44:51 INFO 140489782138688] Epoch[22] Time cost=4.899\u001b[0m\n",
      "\u001b[34m[08/04/2024 18:44:51 INFO 140489782138688] Epoch[22] Validation-accuracy=0.817708\u001b[0m\n",
      "\u001b[34m[08/04/2024 18:44:55 INFO 140489782138688] Epoch[23] Batch [20]#011Speed: 193.864 samples/sec#011accuracy=0.925595\u001b[0m\n",
      "\u001b[34m[08/04/2024 18:44:57 INFO 140489782138688] Epoch[23] Train-accuracy=0.914315\u001b[0m\n",
      "\u001b[34m[08/04/2024 18:44:57 INFO 140489782138688] Epoch[23] Time cost=4.905\u001b[0m\n",
      "\u001b[34m[08/04/2024 18:44:57 INFO 140489782138688] Epoch[23] Validation-accuracy=0.834821\u001b[0m\n",
      "\u001b[34m[08/04/2024 18:45:01 INFO 140489782138688] Epoch[24] Batch [20]#011Speed: 192.245 samples/sec#011accuracy=0.959821\u001b[0m\n",
      "\u001b[34m[08/04/2024 18:45:03 INFO 140489782138688] Epoch[24] Train-accuracy=0.959677\u001b[0m\n",
      "\u001b[34m[08/04/2024 18:45:03 INFO 140489782138688] Epoch[24] Time cost=5.033\u001b[0m\n",
      "\u001b[34m[08/04/2024 18:45:03 INFO 140489782138688] Epoch[24] Validation-accuracy=0.869792\u001b[0m\n",
      "\u001b[34m[08/04/2024 18:45:07 INFO 140489782138688] Epoch[25] Batch [20]#011Speed: 192.384 samples/sec#011accuracy=0.958333\u001b[0m\n",
      "\u001b[34m[08/04/2024 18:45:09 INFO 140489782138688] Epoch[25] Train-accuracy=0.953629\u001b[0m\n",
      "\u001b[34m[08/04/2024 18:45:09 INFO 140489782138688] Epoch[25] Time cost=4.951\u001b[0m\n",
      "\u001b[34m[08/04/2024 18:45:09 INFO 140489782138688] Epoch[25] Validation-accuracy=0.744792\u001b[0m\n",
      "\u001b[34m[08/04/2024 18:45:13 INFO 140489782138688] Epoch[26] Batch [20]#011Speed: 194.038 samples/sec#011accuracy=0.938988\u001b[0m\n",
      "\u001b[34m[08/04/2024 18:45:15 INFO 140489782138688] Epoch[26] Train-accuracy=0.947581\u001b[0m\n",
      "\u001b[34m[08/04/2024 18:45:15 INFO 140489782138688] Epoch[26] Time cost=4.910\u001b[0m\n",
      "\u001b[34m[08/04/2024 18:45:15 INFO 140489782138688] Epoch[26] Validation-accuracy=0.859375\u001b[0m\n",
      "\u001b[34m[08/04/2024 18:45:19 INFO 140489782138688] Epoch[27] Batch [20]#011Speed: 193.663 samples/sec#011accuracy=0.982143\u001b[0m\n",
      "\u001b[34m[08/04/2024 18:45:20 INFO 140489782138688] Epoch[27] Train-accuracy=0.978831\u001b[0m\n",
      "\u001b[34m[08/04/2024 18:45:20 INFO 140489782138688] Epoch[27] Time cost=4.935\u001b[0m\n",
      "\u001b[34m[08/04/2024 18:45:21 INFO 140489782138688] Epoch[27] Validation-accuracy=0.816964\u001b[0m\n",
      "\u001b[34m[08/04/2024 18:45:25 INFO 140489782138688] Epoch[28] Batch [20]#011Speed: 191.582 samples/sec#011accuracy=0.959821\u001b[0m\n",
      "\u001b[34m[08/04/2024 18:45:26 INFO 140489782138688] Epoch[28] Train-accuracy=0.954637\u001b[0m\n",
      "\u001b[34m[08/04/2024 18:45:26 INFO 140489782138688] Epoch[28] Time cost=4.981\u001b[0m\n",
      "\u001b[34m[08/04/2024 18:45:27 INFO 140489782138688] Epoch[28] Validation-accuracy=0.864583\u001b[0m\n",
      "\u001b[34m[08/04/2024 18:45:31 INFO 140489782138688] Epoch[29] Batch [20]#011Speed: 194.494 samples/sec#011accuracy=0.964286\u001b[0m\n",
      "\u001b[34m[08/04/2024 18:45:32 INFO 140489782138688] Epoch[29] Train-accuracy=0.969758\u001b[0m\n",
      "\u001b[34m[08/04/2024 18:45:32 INFO 140489782138688] Epoch[29] Time cost=4.898\u001b[0m\n",
      "\u001b[34m[08/04/2024 18:45:33 INFO 140489782138688] Epoch[29] Validation-accuracy=0.822917\u001b[0m\n",
      "\n",
      "2024-08-04 18:45:54 Uploading - Uploading generated training model\n",
      "2024-08-04 18:45:54 Completed - Training job completed\n",
      "Training seconds: 501\n",
      "Billable seconds: 501\n"
     ]
    }
   ],
   "source": [
    "img_classifier_model.fit(model_inputs)"
   ]
  },
  {
   "cell_type": "markdown",
   "metadata": {},
   "source": [
    "We end up with a model topping out above 82% validation accuracy. With only 1000 training samples in the CIFAR dataset, that's pretty good. We could definitely pursue data augmentation & gathering more samples to help us improve further, but for now let's proceed to deploy our model.\n",
    "\n",
    "### Getting ready to deploy\n",
    "\n",
    "To begin with, let's configure Model Monitor to track our deployment. We'll define a `DataCaptureConfig` below:"
   ]
  },
  {
   "cell_type": "code",
   "execution_count": 100,
   "metadata": {},
   "outputs": [],
   "source": [
    "from sagemaker.model_monitor import DataCaptureConfig\n",
    "\n",
    "data_capture_config = DataCaptureConfig(\n",
    "    enable_capture = True,\n",
    "    sampling_percentage = 100,\n",
    "    destination_s3_uri = f\"s3://{bucket}/data_capture\"\n",
    ")"
   ]
  },
  {
   "cell_type": "markdown",
   "metadata": {},
   "source": [
    "Note the `destination_s3_uri` parameter: We can explore the `data_capture` directory in S3 to find crucial data about the inputs and outputs Model Monitor has observed on our model endpoint over time.\n",
    "\n",
    "With that done, we'll deploy the model on a single `ml.m5.xlarge` instance with the data capture config attached:"
   ]
  },
  {
   "cell_type": "code",
   "execution_count": 101,
   "metadata": {
    "editable": true,
    "slideshow": {
     "slide_type": ""
    },
    "tags": []
   },
   "outputs": [
    {
     "name": "stderr",
     "output_type": "stream",
     "text": [
      "INFO:sagemaker:Creating model with name: image-classification-2024-08-04-19-00-22-180\n",
      "INFO:sagemaker:Creating endpoint-config with name image-classification-2024-08-04-19-00-22-180\n",
      "INFO:sagemaker:Creating endpoint with name image-classification-2024-08-04-19-00-22-180\n"
     ]
    },
    {
     "name": "stdout",
     "output_type": "stream",
     "text": [
      "------------!"
     ]
    }
   ],
   "source": [
    "deployment = img_classifier_model.deploy(\n",
    "    initial_instance_count = 1,\n",
    "    instance_type = \"ml.m5.xlarge\",\n",
    "    data_capture_config=data_capture_config,\n",
    "    )"
   ]
  },
  {
   "cell_type": "code",
   "execution_count": 102,
   "metadata": {
    "editable": true,
    "slideshow": {
     "slide_type": ""
    },
    "tags": []
   },
   "outputs": [
    {
     "name": "stdout",
     "output_type": "stream",
     "text": [
      "image-classification-2024-08-04-19-00-22-180\n"
     ]
    }
   ],
   "source": [
    "endpoint = deployment.endpoint_name\n",
    "print(endpoint)"
   ]
  },
  {
   "cell_type": "markdown",
   "metadata": {},
   "source": [
    "We need to note the endpoint name for later as well.\n",
    "\n",
    "Next, we'll instantiate a Predictor:"
   ]
  },
  {
   "cell_type": "code",
   "execution_count": 103,
   "metadata": {
    "editable": true,
    "slideshow": {
     "slide_type": ""
    },
    "tags": []
   },
   "outputs": [],
   "source": [
    "predictor=sagemaker.predictor.Predictor(\n",
    "    endpoint_name=endpoint,\n",
    "    sagemaker_session=session\n",
    ")"
   ]
  },
  {
   "cell_type": "markdown",
   "metadata": {},
   "source": [
    "In the code snippet below we prepare one of the saved images for prediction. We use the predictor to process the `payload`."
   ]
  },
  {
   "cell_type": "code",
   "execution_count": 104,
   "metadata": {},
   "outputs": [],
   "source": [
    "from sagemaker.serializers import IdentitySerializer\n",
    "import base64\n",
    "\n",
    "predictor.serializer = IdentitySerializer(\"image/png\")\n",
    "with open(\"./test/bicycle_s_001789.png\", \"rb\") as f:\n",
    "    payload = f.read()\n",
    "\n",
    "inference = predictor.predict(data=payload)"
   ]
  },
  {
   "cell_type": "markdown",
   "metadata": {},
   "source": [
    "The `inference` object is an array of two values, the predicted probability value for each of the classes (bicycle and motorcycle respectively.) So, for example, a value of `b'[0.91, 0.09]'` indicates the probability of being a bike is 91% and being a motorcycle is 9%."
   ]
  },
  {
   "cell_type": "code",
   "execution_count": 105,
   "metadata": {
    "editable": true,
    "slideshow": {
     "slide_type": ""
    },
    "tags": []
   },
   "outputs": [
    {
     "name": "stdout",
     "output_type": "stream",
     "text": [
      "b'[0.9076485633850098, 0.09235137701034546]'\n"
     ]
    }
   ],
   "source": [
    "print(inference)"
   ]
  },
  {
   "cell_type": "markdown",
   "metadata": {
    "editable": true,
    "slideshow": {
     "slide_type": ""
    },
    "tags": []
   },
   "source": [
    "### Draft Lambdas and Step Function Workflow\n",
    "\n",
    "The operations team uses Step Functions to orchestrate serverless workflows. One of the nice things about Step Functions is that [workflows can call other workflows](https://docs.aws.amazon.com/step-functions/latest/dg/connect-stepfunctions.html), so the team can easily plug the workflow into the broader production architecture of the company.\n",
    "\n",
    "In this next stage we're going to write and deploy three Lambda functions, and then use the Step Functions visual editor to chain them together! Our functions are going to work with a simple data object:\n",
    "\n",
    "```python\n",
    "{\n",
    "    \"inferences\": [], # Output of predictor.predict\n",
    "    \"s3_key\": \"\", # Source data S3 key\n",
    "    \"s3_bucket\": \"\", # Source data S3 bucket\n",
    "    \"image_data\": \"\"  # base64 encoded string containing the image data\n",
    "}\n",
    "```\n",
    "\n",
    "A good test object that we can use for Lambda tests and Step Function executions, throughout the next section, might look like this:\n",
    "\n",
    "```python\n",
    "{\n",
    "  \"image_data\": \"\",\n",
    "  \"s3_bucket\": MY_BUCKET_NAME, # Fill in with our bucket\n",
    "  \"s3_key\": \"test/bicycle_s_000513.png\"\n",
    "}\n",
    "```\n",
    "\n",
    "Using these fields, the functions can read and write the necessary data to execute the workflow. Let's start with the first function. The first Lambda function will copy an object from S3, base64 encode it, and then return it to the step function as `image_data` in an event.\n",
    "\n",
    "We go to the Lambda dashboard and create a new Lambda function with a descriptive name and select the 'Python 3.8' runtime. We add the same permissions as the SageMaker role we created earlier. This is done in the Configuration tab under \"Permissions\". Once ready, we craft the Lambda handler:\n"
   ]
  },
  {
   "cell_type": "code",
   "execution_count": null,
   "metadata": {},
   "outputs": [],
   "source": [
    "# Lambda Handler for Serializing Image Data\n",
    "import json\n",
    "import boto3\n",
    "import base64\n",
    "\n",
    "s3 = boto3.client(\"s3\")\n",
    "\n",
    "\n",
    "def lambda_handler(event, context):\n",
    "    \"\"\"A function to serialize target data from S3\"\"\"\n",
    "\n",
    "    print(event)\n",
    "    # Get the s3 address from the Step Function event input\n",
    "    key = event[\"s3_key\"]\n",
    "    bucket = event[\"s3_bucket\"]\n",
    "\n",
    "    # Download the data from s3 to /tmp/image.png\n",
    "    s3.download_file(bucket, key, \"/tmp/image.png\")\n",
    "\n",
    "    # We read the data from a file\n",
    "    with open(\"/tmp/image.png\", \"rb\") as f:\n",
    "        image_data = base64.b64encode(f.read())\n",
    "\n",
    "    # Pass the data back to the Step Function\n",
    "    print(\"Event:\", event.keys())\n",
    "    return {\n",
    "        \"statusCode\": 200,\n",
    "        \"body\": {\n",
    "            \"image_data\": image_data,\n",
    "            \"s3_bucket\": bucket,\n",
    "            \"s3_key\": key,\n",
    "            \"inferences\": [],\n",
    "        },\n",
    "    }"
   ]
  },
  {
   "cell_type": "markdown",
   "metadata": {},
   "source": [
    "The next function is responsible for the classification part - we're going to take the image output from the previous function, decode it, and then pass inferences back to the the Step Function.\n",
    "\n",
    "Because this Lambda will have runtime dependencies (i.e. the SageMaker SDK) we'll need to package them in the function. Read https://docs.aws.amazon.com/lambda/latest/dg/python-package-create.html#python-package-create-with-dependency\n",
    "for more info on this process.\n",
    "\n",
    "We create a new Lambda function for the image classifier with the same rights and a descriptive name.\n"
   ]
  },
  {
   "cell_type": "code",
   "execution_count": null,
   "metadata": {},
   "outputs": [],
   "source": [
    "# Lambda Handler for Image Classification\n",
    "import json\n",
    "import sagemaker\n",
    "import base64\n",
    "from sagemaker.serializers import IdentitySerializer\n",
    "\n",
    "# Fill this in with the name of the deployed model\n",
    "ENDPOINT = \"image-classification-2024-08-04-19-00-22-180\"\n",
    "\n",
    "\n",
    "def lambda_handler(event, context):\n",
    "\n",
    "    # Decode the image data\n",
    "    image = base64.b64decode(event[\"image_data\"])\n",
    "\n",
    "    # Instantiate a Predictor\n",
    "    predictor = sagemaker.predictor.Predictor(\n",
    "        endpoint_name=ENDPOINT, sagemaker_session=sagemaker.Session()\n",
    "    )\n",
    "\n",
    "    # For this model the IdentitySerializer needs to be \"image/png\"\n",
    "    predictor.serializer = IdentitySerializer(\"image/png\")\n",
    "\n",
    "    # Make a prediction:\n",
    "    inferences = predictor.predict(image)\n",
    "\n",
    "    # We return the data back to the Step Function\n",
    "    event[\"inferences\"] = inferences.decode(\"utf-8\")\n",
    "    return {\"statusCode\": 200, \"body\": json.dumps(event)}"
   ]
  },
  {
   "cell_type": "markdown",
   "metadata": {},
   "source": [
    "Finally, we need to filter low-confidence inferences. We define a threshold for the model. If the model predicts at `.70` for it's highest confidence label, do we want to pass that inference along to downstream systems? We make one last Lambda function and tee up the same permissions:"
   ]
  },
  {
   "cell_type": "code",
   "execution_count": null,
   "metadata": {},
   "outputs": [],
   "source": [
    "# Lambda Handler for Threshhold\n",
    "import json\n",
    "\n",
    "THRESHOLD = 0.70\n",
    "\n",
    "def lambda_handler(event, context):\n",
    "\n",
    "    # Grab the inferences from the event\n",
    "    inferences = json.loads(event[\"inferences\"])\n",
    "\n",
    "    # Check if any values in our inferences are above THRESHOLD\n",
    "    meets_threshold = True if max(inferences) > THRESHOLD else False\n",
    "\n",
    "    # If our threshold is met, pass our data back out of the\n",
    "    # Step Function, else, end the Step Function with an error\n",
    "    if meets_threshold:\n",
    "        pass\n",
    "    else:\n",
    "        raise (\"THRESHOLD_CONFIDENCE_NOT_MET\")\n",
    "\n",
    "    return {\"statusCode\": 200, \"body\": json.dumps(event)}\n"
   ]
  },
  {
   "cell_type": "markdown",
   "metadata": {},
   "source": [
    "With the lambdas in place, we can use the Step Functions visual editor to construct a workflow that chains them together. In the Step Functions console we have the option to author a Standard step function *Visually*.\n",
    "\n",
    "When the visual editor opens, we have many options to add transitions in the workflow. We're going to keep it simple and have just one: to invoke Lambda functions. We are going to add three of them chained together. For each one, we'll be able to select the Lambda functions we just created in the proper order, filter inputs and outputs, and give them descriptive names.\n",
    "\n",
    "We need to make sure that we:\n",
    "\n",
    "1. Are properly filtering the inputs and outputs of the invokations (e.g. `$.body`)\n",
    "2. Take care to remove the error handling from the last function - it's supposed to \"fail loudly\" for the operations colleagues!\n",
    "\n",
    "The Step Function visual editor should look like the below screenshot"
   ]
  },
  {
   "cell_type": "markdown",
   "metadata": {},
   "source": [
    "![Step_Fuction_Screenshot](img/StepFunction-Screenshot.jpg)"
   ]
  },
  {
   "cell_type": "markdown",
   "metadata": {},
   "source": [
    "\n",
    "Great! Now we can use the files in `./test` as test files for our workflow. Depending on the threshold, the workflow should reliably pass predictions about images from `./test` on to downstream systems, while erroring out for inferences below our confidence threshold!\n",
    "\n",
    "### Testing and Evaluation\n",
    "\n",
    "Let's try several step function invokations using data from the `./test` folder. This process should give us confidence that the workflow both *succeeds* AND *fails* as expected. In addition, SageMaker Model Monitor will generate recordings of the data and inferences which we can visualize.\n",
    "\n",
    "Here's a function that helps us generate test inputs for the invokations:"
   ]
  },
  {
   "cell_type": "code",
   "execution_count": 10,
   "metadata": {
    "editable": true,
    "slideshow": {
     "slide_type": ""
    },
    "tags": []
   },
   "outputs": [
    {
     "name": "stdout",
     "output_type": "stream",
     "text": [
      "{\"image_data\": \"\", \"s3_bucket\": \"sagemaker-us-east-1-641948205787\", \"s3_key\": \"test/bike_s_000801.png\"}\n",
      "{\"image_data\": \"\", \"s3_bucket\": \"sagemaker-us-east-1-641948205787\", \"s3_key\": \"test/motorcycle_s_001261.png\"}\n",
      "{\"image_data\": \"\", \"s3_bucket\": \"sagemaker-us-east-1-641948205787\", \"s3_key\": \"test/safety_bike_s_001132.png\"}\n",
      "{\"image_data\": \"\", \"s3_bucket\": \"sagemaker-us-east-1-641948205787\", \"s3_key\": \"test/motorcycle_s_001261.png\"}\n",
      "{\"image_data\": \"\", \"s3_bucket\": \"sagemaker-us-east-1-641948205787\", \"s3_key\": \"test/minibike_s_001732.png\"}\n",
      "{\"image_data\": \"\", \"s3_bucket\": \"sagemaker-us-east-1-641948205787\", \"s3_key\": \"test/minibike_s_000913.png\"}\n",
      "{\"image_data\": \"\", \"s3_bucket\": \"sagemaker-us-east-1-641948205787\", \"s3_key\": \"test/bicycle_s_000779.png\"}\n",
      "{\"image_data\": \"\", \"s3_bucket\": \"sagemaker-us-east-1-641948205787\", \"s3_key\": \"test/ordinary_bicycle_s_000350.png\"}\n",
      "{\"image_data\": \"\", \"s3_bucket\": \"sagemaker-us-east-1-641948205787\", \"s3_key\": \"test/bicycle_s_000059.png\"}\n",
      "{\"image_data\": \"\", \"s3_bucket\": \"sagemaker-us-east-1-641948205787\", \"s3_key\": \"test/ordinary_bicycle_s_000431.png\"}\n"
     ]
    }
   ],
   "source": [
    "import random\n",
    "import boto3\n",
    "import json\n",
    "\n",
    "def generate_test_case():\n",
    "    # Setup s3 in boto3\n",
    "    s3 = boto3.resource('s3')\n",
    "\n",
    "    # Randomly pick from sfn or test folders in our bucket\n",
    "    objects = s3.Bucket(bucket).objects.filter(Prefix=\"test\")\n",
    "\n",
    "    # Grab any random object key from that folder!\n",
    "    obj = random.choice([x.key for x in objects])\n",
    "\n",
    "    return json.dumps({\n",
    "        \"image_data\": \"\",\n",
    "        \"s3_bucket\": bucket,\n",
    "        \"s3_key\": obj\n",
    "    })\n",
    "\n",
    "for i in range(10):\n",
    "    print(generate_test_case())"
   ]
  },
  {
   "cell_type": "markdown",
   "metadata": {
    "editable": true,
    "slideshow": {
     "slide_type": ""
    },
    "tags": []
   },
   "source": [
    "In the Step Function dashboard for the new function, we can create new executions and copy in the generated test cases. Let's do several executions so that we can generate data we can evaluate and visualize.\n",
    "\n",
    "Once we've done several executions, let's visualize the record of our inferences. We pull in the JSONLines data from the inferences like so:"
   ]
  },
  {
   "cell_type": "code",
   "execution_count": 260,
   "metadata": {},
   "outputs": [
    {
     "data": {
      "text/plain": [
       "['captured_data/06-04-624-3ef79325-9bb8-4b28-aa84-81ea7d235883.jsonl']"
      ]
     },
     "execution_count": 260,
     "metadata": {},
     "output_type": "execute_result"
    }
   ],
   "source": [
    "from sagemaker.s3 import S3Downloader\n",
    "\n",
    "# In S3 the data will be saved to a datetime-aware path\n",
    "# Find a path related to a datetime we're interested in\n",
    "data_path = \"s3://sagemaker-us-east-1-641948205787/data_capture/image-classification-2024-08-04-19-00-22-180/AllTraffic/2024/08/05/02/06-04-624-3ef79325-9bb8-4b28-aa84-81ea7d235883.jsonl\"\n",
    "\n",
    "S3Downloader.download(data_path, \"captured_data\")\n",
    "\n",
    "# Feel free to repeat this multiple times and pull in more data"
   ]
  },
  {
   "cell_type": "markdown",
   "metadata": {},
   "source": [
    "The data are in JSONLines format, where multiple valid JSON objects are stacked on top of eachother in a single `jsonl` file. We'll import an open-source library, `jsonlines` that was purpose built for parsing this format."
   ]
  },
  {
   "cell_type": "code",
   "execution_count": 5,
   "metadata": {},
   "outputs": [
    {
     "name": "stdout",
     "output_type": "stream",
     "text": [
      "Collecting jsonlines\n",
      "  Using cached jsonlines-4.0.0-py3-none-any.whl.metadata (1.6 kB)\n",
      "Requirement already satisfied: attrs>=19.2.0 in /opt/conda/lib/python3.10/site-packages (from jsonlines) (23.2.0)\n",
      "Using cached jsonlines-4.0.0-py3-none-any.whl (8.7 kB)\n",
      "Installing collected packages: jsonlines\n",
      "Successfully installed jsonlines-4.0.0\n"
     ]
    }
   ],
   "source": [
    "!pip install jsonlines\n",
    "import jsonlines"
   ]
  },
  {
   "cell_type": "markdown",
   "metadata": {},
   "source": [
    "Now we can extract the data from each of the source files:"
   ]
  },
  {
   "cell_type": "code",
   "execution_count": 7,
   "metadata": {},
   "outputs": [
    {
     "name": "stdout",
     "output_type": "stream",
     "text": [
      "['04-02-796-e88f39ad-abcf-4605-b1a9-6a13cc095b69.jsonl', '05-03-418-6270df80-df44-453a-87f1-9805f7616fca.jsonl', '06-04-624-3ef79325-9bb8-4b28-aa84-81ea7d235883.jsonl', '07-06-360-f9817a47-fce3-423b-958f-2368352341ea.jsonl']\n"
     ]
    }
   ],
   "source": [
    "import os\n",
    "\n",
    "# List the file names we downloaded\n",
    "file_handles = os.listdir(\"./captured_data\")\n",
    "print(file_handles)\n",
    "\n",
    "# Dump all the data into an array\n",
    "json_data = []\n",
    "for jsonl in file_handles:\n",
    "    with jsonlines.open(f\"./captured_data/{jsonl}\") as f:\n",
    "        for obj in f:\n",
    "            json_data.append(obj)"
   ]
  },
  {
   "cell_type": "markdown",
   "metadata": {
    "editable": true,
    "slideshow": {
     "slide_type": ""
    },
    "tags": []
   },
   "source": [
    "The data should now be a list of dictionaries, with significant nesting. Here's some code that grabs data out of the objects and visualizes it:"
   ]
  },
  {
   "cell_type": "code",
   "execution_count": 307,
   "metadata": {},
   "outputs": [],
   "source": [
    "# Define how we'll get our data\n",
    "\n",
    "def simple_getter(obj):\n",
    "    inferences = obj[\"captureData\"][\"endpointOutput\"][\"data\"]\n",
    "    timestamp = obj[\"eventMetadata\"][\"inferenceTime\"]\n",
    "    return json.loads(inferences), timestamp"
   ]
  },
  {
   "cell_type": "markdown",
   "metadata": {
    "editable": true,
    "slideshow": {
     "slide_type": ""
    },
    "tags": []
   },
   "source": [
    "Finally, here's a visualization built with this data. The captured data has the input images, the resulting inferences, and the timestamps."
   ]
  },
  {
   "cell_type": "code",
   "execution_count": 317,
   "metadata": {
    "editable": true,
    "slideshow": {
     "slide_type": ""
    },
    "tags": []
   },
   "outputs": [
    {
     "data": {
      "image/png": "[encoded data removed]",
      "text/plain": [
       "<Figure size 640x480 with 1 Axes>"
      ]
     },
     "metadata": {},
     "output_type": "display_data"
    }
   ],
   "source": [
    "import matplotlib.pyplot as plt\n",
    "\n",
    "# Populate the data for the x and y axis\n",
    "x = []\n",
    "y = []\n",
    "for obj in json_data:\n",
    "    inference, timestamp = simple_getter(obj)\n",
    "    y.append(inference)\n",
    "    x.append(timestamp)\n",
    "\n",
    "#plot the data\n",
    "for i in range(len(x)):\n",
    "    scatter_bike = plt.scatter(x[i], y[i][0], c=\"b\", label=\"bike\")\n",
    "    scatter_motorcycle = plt.scatter(x[i], y[i][1], c=\"r\", label=\"motorcycle\")\n",
    "\n",
    "plt.suptitle(\"Observed Recent Inferences\", fontsize=14)\n",
    "plt.title(\"Pictured with confidence threshold for production use\", fontsize=12)\n",
    "plt.xlabel(\"Time\")\n",
    "plt.ylabel(\"Confidence\")\n",
    "plt.gcf().autofmt_xdate()\n",
    "threshhold = plt.axhline(y=0.87, color='g', linestyle='--', label=\"confidence threshhold\")\n",
    "plt.legend(handles=[scatter_bike, scatter_motorcycle, threshhold], loc=10)\n",
    "plt.show()"
   ]
  },
  {
   "cell_type": "markdown",
   "metadata": {
    "editable": true,
    "slideshow": {
     "slide_type": ""
    },
    "tags": []
   },
   "source": [
    "### Summary\n",
    "\n",
    "In this workflow we created an event-driven ML workflow that can be incorporated into a company's production architecture. We used the SageMaker Estimator API to deploy the SageMaker Model and Endpoint, and used AWS Lambda and Step Functions to orchestrate the ML workflow. Using SageMaker Model Monitor, we instrumented and observed the Endpoint, and at the end of the project we built a visualization to help stakeholders understand the performance of the Endpoint over time."
   ]
  }
 ],
 "metadata": {
  "instance_type": "ml.t3.medium",
  "kernelspec": {
   "display_name": "Python 3 (ipykernel)",
   "language": "python",
   "name": "python3"
  },
  "language_info": {
   "codemirror_mode": {
    "name": "ipython",
    "version": 3
   },
   "file_extension": ".py",
   "mimetype": "text/x-python",
   "name": "python",
   "nbconvert_exporter": "python",
   "pygments_lexer": "ipython3",
   "version": "3.10.14"
  }
 },
 "nbformat": 4,
 "nbformat_minor": 4
}
